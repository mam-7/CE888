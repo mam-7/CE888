{
  "nbformat": 4,
  "nbformat_minor": 0,
  "metadata": {
    "colab": {
      "name": "STREAMBASED_MUSHROOM.ipynb",
      "provenance": [],
      "collapsed_sections": [],
      "authorship_tag": "ABX9TyPi+H1uoseKbgRF9dpNUzPK",
      "include_colab_link": true
    },
    "kernelspec": {
      "name": "python3",
      "display_name": "Python 3"
    }
  },
  "cells": [
    {
      "cell_type": "markdown",
      "metadata": {
        "id": "view-in-github",
        "colab_type": "text"
      },
      "source": [
        "<a href=\"https://colab.research.google.com/github/mam-7/CE888/blob/master/CE888_1907191_ASSIGN/STREAMBASED_MUSHROOM.ipynb\" target=\"_parent\"><img src=\"https://colab.research.google.com/assets/colab-badge.svg\" alt=\"Open In Colab\"/></a>"
      ]
    },
    {
      "cell_type": "code",
      "metadata": {
        "id": "5pK7cr1caRJx",
        "colab_type": "code",
        "colab": {
          "base_uri": "https://localhost:8080/",
          "height": 34
        },
        "outputId": "3bf7e013-a345-4862-eb9d-3dbfa28101ab"
      },
      "source": [
        "from google.colab import drive\n",
        "drive.mount('/content/gdrive')"
      ],
      "execution_count": 1,
      "outputs": [
        {
          "output_type": "stream",
          "text": [
            "Mounted at /content/gdrive\n"
          ],
          "name": "stdout"
        }
      ]
    },
    {
      "cell_type": "code",
      "metadata": {
        "id": "OJcDgMwMa4qN",
        "colab_type": "code",
        "colab": {}
      },
      "source": [
        "import pandas as pd"
      ],
      "execution_count": 2,
      "outputs": []
    },
    {
      "cell_type": "code",
      "metadata": {
        "id": "xfx9jcktaU_m",
        "colab_type": "code",
        "colab": {}
      },
      "source": [
        "path = 'gdrive/My Drive/CHECK/'"
      ],
      "execution_count": 3,
      "outputs": []
    },
    {
      "cell_type": "code",
      "metadata": {
        "id": "om9mjcBYaVcm",
        "colab_type": "code",
        "colab": {}
      },
      "source": [
        "df=pd.read_csv(path+\"mushrooms.csv\")"
      ],
      "execution_count": 4,
      "outputs": []
    },
    {
      "cell_type": "code",
      "metadata": {
        "id": "sbH_7hipbCEn",
        "colab_type": "code",
        "colab": {
          "base_uri": "https://localhost:8080/",
          "height": 71
        },
        "outputId": "451312ce-9643-4458-a555-c7fc00718b66"
      },
      "source": [
        "import pandas as pd\n",
        "import numpy as np\n",
        "from matplotlib import pyplot as plt\n",
        "import seaborn as sns"
      ],
      "execution_count": 5,
      "outputs": [
        {
          "output_type": "stream",
          "text": [
            "/usr/local/lib/python3.6/dist-packages/statsmodels/tools/_testing.py:19: FutureWarning: pandas.util.testing is deprecated. Use the functions in the public API at pandas.testing instead.\n",
            "  import pandas.util.testing as tm\n"
          ],
          "name": "stderr"
        }
      ]
    },
    {
      "cell_type": "code",
      "metadata": {
        "id": "ytPEBb6_bCIP",
        "colab_type": "code",
        "colab": {
          "base_uri": "https://localhost:8080/",
          "height": 275
        },
        "outputId": "8b4e8927-f2fa-4c3c-8e6b-61249d217296"
      },
      "source": [
        "#DATA PREPROCESSING :SINCE THE VALUES ARE STRINGS WE CHANGE TO NUMBERS\n",
        "from sklearn.preprocessing import LabelEncoder\n",
        "labelencoder=LabelEncoder()\n",
        "for col in df.columns:\n",
        "    df[col] = labelencoder.fit_transform(df[col])\n",
        " \n",
        "df.head()"
      ],
      "execution_count": 6,
      "outputs": [
        {
          "output_type": "execute_result",
          "data": {
            "text/html": [
              "<div>\n",
              "<style scoped>\n",
              "    .dataframe tbody tr th:only-of-type {\n",
              "        vertical-align: middle;\n",
              "    }\n",
              "\n",
              "    .dataframe tbody tr th {\n",
              "        vertical-align: top;\n",
              "    }\n",
              "\n",
              "    .dataframe thead th {\n",
              "        text-align: right;\n",
              "    }\n",
              "</style>\n",
              "<table border=\"1\" class=\"dataframe\">\n",
              "  <thead>\n",
              "    <tr style=\"text-align: right;\">\n",
              "      <th></th>\n",
              "      <th>class</th>\n",
              "      <th>cap-shape</th>\n",
              "      <th>cap-surface</th>\n",
              "      <th>cap-color</th>\n",
              "      <th>bruises</th>\n",
              "      <th>odor</th>\n",
              "      <th>gill-attachment</th>\n",
              "      <th>gill-spacing</th>\n",
              "      <th>gill-size</th>\n",
              "      <th>gill-color</th>\n",
              "      <th>stalk-shape</th>\n",
              "      <th>stalk-root</th>\n",
              "      <th>stalk-surface-above-ring</th>\n",
              "      <th>stalk-surface-below-ring</th>\n",
              "      <th>stalk-color-above-ring</th>\n",
              "      <th>stalk-color-below-ring</th>\n",
              "      <th>veil-type</th>\n",
              "      <th>veil-color</th>\n",
              "      <th>ring-number</th>\n",
              "      <th>ring-type</th>\n",
              "      <th>spore-print-color</th>\n",
              "      <th>population</th>\n",
              "      <th>habitat</th>\n",
              "    </tr>\n",
              "  </thead>\n",
              "  <tbody>\n",
              "    <tr>\n",
              "      <th>0</th>\n",
              "      <td>1</td>\n",
              "      <td>5</td>\n",
              "      <td>2</td>\n",
              "      <td>4</td>\n",
              "      <td>1</td>\n",
              "      <td>6</td>\n",
              "      <td>1</td>\n",
              "      <td>0</td>\n",
              "      <td>1</td>\n",
              "      <td>4</td>\n",
              "      <td>0</td>\n",
              "      <td>3</td>\n",
              "      <td>2</td>\n",
              "      <td>2</td>\n",
              "      <td>7</td>\n",
              "      <td>7</td>\n",
              "      <td>0</td>\n",
              "      <td>2</td>\n",
              "      <td>1</td>\n",
              "      <td>4</td>\n",
              "      <td>2</td>\n",
              "      <td>3</td>\n",
              "      <td>5</td>\n",
              "    </tr>\n",
              "    <tr>\n",
              "      <th>1</th>\n",
              "      <td>0</td>\n",
              "      <td>5</td>\n",
              "      <td>2</td>\n",
              "      <td>9</td>\n",
              "      <td>1</td>\n",
              "      <td>0</td>\n",
              "      <td>1</td>\n",
              "      <td>0</td>\n",
              "      <td>0</td>\n",
              "      <td>4</td>\n",
              "      <td>0</td>\n",
              "      <td>2</td>\n",
              "      <td>2</td>\n",
              "      <td>2</td>\n",
              "      <td>7</td>\n",
              "      <td>7</td>\n",
              "      <td>0</td>\n",
              "      <td>2</td>\n",
              "      <td>1</td>\n",
              "      <td>4</td>\n",
              "      <td>3</td>\n",
              "      <td>2</td>\n",
              "      <td>1</td>\n",
              "    </tr>\n",
              "    <tr>\n",
              "      <th>2</th>\n",
              "      <td>0</td>\n",
              "      <td>0</td>\n",
              "      <td>2</td>\n",
              "      <td>8</td>\n",
              "      <td>1</td>\n",
              "      <td>3</td>\n",
              "      <td>1</td>\n",
              "      <td>0</td>\n",
              "      <td>0</td>\n",
              "      <td>5</td>\n",
              "      <td>0</td>\n",
              "      <td>2</td>\n",
              "      <td>2</td>\n",
              "      <td>2</td>\n",
              "      <td>7</td>\n",
              "      <td>7</td>\n",
              "      <td>0</td>\n",
              "      <td>2</td>\n",
              "      <td>1</td>\n",
              "      <td>4</td>\n",
              "      <td>3</td>\n",
              "      <td>2</td>\n",
              "      <td>3</td>\n",
              "    </tr>\n",
              "    <tr>\n",
              "      <th>3</th>\n",
              "      <td>1</td>\n",
              "      <td>5</td>\n",
              "      <td>3</td>\n",
              "      <td>8</td>\n",
              "      <td>1</td>\n",
              "      <td>6</td>\n",
              "      <td>1</td>\n",
              "      <td>0</td>\n",
              "      <td>1</td>\n",
              "      <td>5</td>\n",
              "      <td>0</td>\n",
              "      <td>3</td>\n",
              "      <td>2</td>\n",
              "      <td>2</td>\n",
              "      <td>7</td>\n",
              "      <td>7</td>\n",
              "      <td>0</td>\n",
              "      <td>2</td>\n",
              "      <td>1</td>\n",
              "      <td>4</td>\n",
              "      <td>2</td>\n",
              "      <td>3</td>\n",
              "      <td>5</td>\n",
              "    </tr>\n",
              "    <tr>\n",
              "      <th>4</th>\n",
              "      <td>0</td>\n",
              "      <td>5</td>\n",
              "      <td>2</td>\n",
              "      <td>3</td>\n",
              "      <td>0</td>\n",
              "      <td>5</td>\n",
              "      <td>1</td>\n",
              "      <td>1</td>\n",
              "      <td>0</td>\n",
              "      <td>4</td>\n",
              "      <td>1</td>\n",
              "      <td>3</td>\n",
              "      <td>2</td>\n",
              "      <td>2</td>\n",
              "      <td>7</td>\n",
              "      <td>7</td>\n",
              "      <td>0</td>\n",
              "      <td>2</td>\n",
              "      <td>1</td>\n",
              "      <td>0</td>\n",
              "      <td>3</td>\n",
              "      <td>0</td>\n",
              "      <td>1</td>\n",
              "    </tr>\n",
              "  </tbody>\n",
              "</table>\n",
              "</div>"
            ],
            "text/plain": [
              "   class  cap-shape  cap-surface  ...  spore-print-color  population  habitat\n",
              "0      1          5            2  ...                  2           3        5\n",
              "1      0          5            2  ...                  3           2        1\n",
              "2      0          0            2  ...                  3           2        3\n",
              "3      1          5            3  ...                  2           3        5\n",
              "4      0          5            2  ...                  3           0        1\n",
              "\n",
              "[5 rows x 23 columns]"
            ]
          },
          "metadata": {
            "tags": []
          },
          "execution_count": 6
        }
      ]
    },
    {
      "cell_type": "code",
      "metadata": {
        "id": "0CP-1yDsbUU4",
        "colab_type": "code",
        "colab": {
          "base_uri": "https://localhost:8080/",
          "height": 119
        },
        "outputId": "7848b23e-1ca1-4fa8-b409-4745012a2097"
      },
      "source": [
        "X = df.iloc[:,1:23] \n",
        "y = df.iloc[:, 0]  \n",
        "X.head()\n",
        "y.head()"
      ],
      "execution_count": 7,
      "outputs": [
        {
          "output_type": "execute_result",
          "data": {
            "text/plain": [
              "0    1\n",
              "1    0\n",
              "2    0\n",
              "3    1\n",
              "4    0\n",
              "Name: class, dtype: int64"
            ]
          },
          "metadata": {
            "tags": []
          },
          "execution_count": 7
        }
      ]
    },
    {
      "cell_type": "code",
      "metadata": {
        "id": "tpXUxPY9bCXX",
        "colab_type": "code",
        "colab": {
          "base_uri": "https://localhost:8080/",
          "height": 238
        },
        "outputId": "186023d0-db82-45ee-d2cf-a60592204068"
      },
      "source": [
        "#SCALING FOR BETTER RESULTS IN MODEL\n",
        "from sklearn.preprocessing import StandardScaler\n",
        "scaler = StandardScaler()\n",
        "X=scaler.fit_transform(X)\n",
        "X"
      ],
      "execution_count": 8,
      "outputs": [
        {
          "output_type": "execute_result",
          "data": {
            "text/plain": [
              "array([[ 1.02971224,  0.14012794, -0.19824983, ..., -0.67019486,\n",
              "        -0.5143892 ,  2.03002809],\n",
              "       [ 1.02971224,  0.14012794,  1.76587407, ..., -0.2504706 ,\n",
              "        -1.31310821, -0.29572966],\n",
              "       [-2.08704716,  0.14012794,  1.37304929, ..., -0.2504706 ,\n",
              "        -1.31310821,  0.86714922],\n",
              "       ...,\n",
              "       [-0.8403434 ,  0.14012794, -0.19824983, ..., -1.50964337,\n",
              "        -2.11182722,  0.28570978],\n",
              "       [-0.21699152,  0.95327039, -0.19824983, ...,  1.42842641,\n",
              "         0.28432981,  0.28570978],\n",
              "       [ 1.02971224,  0.14012794, -0.19824983, ...,  0.16925365,\n",
              "        -2.11182722,  0.28570978]])"
            ]
          },
          "metadata": {
            "tags": []
          },
          "execution_count": 8
        }
      ]
    },
    {
      "cell_type": "code",
      "metadata": {
        "id": "eCp7cREJbCdL",
        "colab_type": "code",
        "colab": {
          "base_uri": "https://localhost:8080/",
          "height": 238
        },
        "outputId": "f19d45ec-4768-4035-9998-60d1219e2baa"
      },
      "source": [
        "#DIMENSION REDUCTION\n",
        "from sklearn.decomposition import PCA\n",
        "pca = PCA()\n",
        "pca.fit_transform(X)"
      ],
      "execution_count": 9,
      "outputs": [
        {
          "output_type": "execute_result",
          "data": {
            "text/plain": [
              "array([[-5.74321902e-01, -9.75781349e-01, -1.22176154e+00, ...,\n",
              "        -2.08581362e-01,  8.13996758e-03, -1.59211948e-17],\n",
              "       [-2.28210230e+00,  2.79066333e-01, -1.20049669e+00, ...,\n",
              "         1.52238789e-01, -1.96446132e-01,  4.35476041e-17],\n",
              "       [-1.85803562e+00, -2.70972362e-01, -1.37237069e+00, ...,\n",
              "         2.57581784e-01, -3.62577199e-01,  1.93182410e-17],\n",
              "       ...,\n",
              "       [-1.62151632e+00, -7.57536709e-01,  2.73357994e+00, ...,\n",
              "        -1.42532241e+00,  6.36990122e-01,  7.01453987e-19],\n",
              "       [ 3.67060561e+00, -1.03277450e+00,  1.68459501e-01, ...,\n",
              "         9.41440123e-02, -6.43462238e-02, -3.98483680e-20],\n",
              "       [-1.57520272e+00, -1.22858140e+00,  2.44722789e+00, ...,\n",
              "        -8.04626064e-01,  5.90315263e-01,  7.43806407e-20]])"
            ]
          },
          "metadata": {
            "tags": []
          },
          "execution_count": 9
        }
      ]
    },
    {
      "cell_type": "code",
      "metadata": {
        "id": "-5iGBwPfbCUS",
        "colab_type": "code",
        "colab": {
          "base_uri": "https://localhost:8080/",
          "height": 153
        },
        "outputId": "1253cf57-476c-40e0-8b51-97011f28daf0"
      },
      "source": [
        "!pip install modAL"
      ],
      "execution_count": 10,
      "outputs": [
        {
          "output_type": "stream",
          "text": [
            "Collecting modAL\n",
            "  Downloading https://files.pythonhosted.org/packages/7c/98/6923b85adbc9884cf68f9750af14165cb68ccbd79c4d2f4f926825d44d24/modAL-0.3.6-py3-none-any.whl\n",
            "Requirement already satisfied: numpy>=1.13 in /usr/local/lib/python3.6/dist-packages (from modAL) (1.18.5)\n",
            "Requirement already satisfied: scipy>=0.18 in /usr/local/lib/python3.6/dist-packages (from modAL) (1.4.1)\n",
            "Requirement already satisfied: scikit-learn>=0.18 in /usr/local/lib/python3.6/dist-packages (from modAL) (0.22.2.post1)\n",
            "Requirement already satisfied: joblib>=0.11 in /usr/local/lib/python3.6/dist-packages (from scikit-learn>=0.18->modAL) (0.16.0)\n",
            "Installing collected packages: modAL\n",
            "Successfully installed modAL-0.3.6\n"
          ],
          "name": "stdout"
        }
      ]
    },
    {
      "cell_type": "code",
      "metadata": {
        "id": "LMJKPCMObCSy",
        "colab_type": "code",
        "colab": {}
      },
      "source": [
        "from modAL.models import ActiveLearner\n",
        "from modAL.uncertainty import uncertainty_sampling \n",
        "from sklearn.ensemble import RandomForestClassifier\n",
        "import seaborn as sns\n"
      ],
      "execution_count": 11,
      "outputs": []
    },
    {
      "cell_type": "code",
      "metadata": {
        "id": "dJnf6tnTbCSE",
        "colab_type": "code",
        "colab": {}
      },
      "source": [
        "from sklearn.model_selection import train_test_split\n"
      ],
      "execution_count": 12,
      "outputs": []
    },
    {
      "cell_type": "code",
      "metadata": {
        "id": "o3vi0qzjbCQ5",
        "colab_type": "code",
        "colab": {}
      },
      "source": [
        "import numpy as np"
      ],
      "execution_count": 13,
      "outputs": []
    },
    {
      "cell_type": "code",
      "metadata": {
        "id": "IWKIP4x_AaIy",
        "colab_type": "code",
        "colab": {
          "base_uri": "https://localhost:8080/",
          "height": 34
        },
        "outputId": "9aa49fee-7ae8-461d-f2c7-9617ce74914a"
      },
      "source": [
        "from sklearn.ensemble import RandomForestClassifier\n",
        "from modAL.models import ActiveLearner\n",
        "\n",
        "# assembling initial training set\n",
        "n_initial = 5\n",
        "initial_idx = np.random.choice(range(len(X)), size=n_initial, replace=False)\n",
        "X_train, y_train = X[initial_idx], y[initial_idx]\n",
        "\n",
        "# initialize the learner\n",
        "learner = ActiveLearner(\n",
        "    estimator=RandomForestClassifier(),\n",
        "    X_training=X_train, y_training=y_train\n",
        ")\n",
        "unqueried_score = learner.score(X, y)\n",
        "\n",
        "print('Initial prediction accuracy: %f' % unqueried_score)\n"
      ],
      "execution_count": 14,
      "outputs": [
        {
          "output_type": "stream",
          "text": [
            "Initial prediction accuracy: 0.501723\n"
          ],
          "name": "stdout"
        }
      ]
    },
    {
      "cell_type": "code",
      "metadata": {
        "id": "tIT3tZl6AphA",
        "colab_type": "code",
        "colab": {
          "base_uri": "https://localhost:8080/",
          "height": 255
        },
        "outputId": "e325f960-7161-41a3-fab1-f785be2dc3bb"
      },
      "source": [
        "from modAL.uncertainty import classifier_uncertainty\n",
        "\n",
        "performance_history = [unqueried_score]\n",
        "\n",
        "# learning until the accuracy reaches a given threshold\n",
        "while learner.score(X, y) < 0.90:\n",
        "    stream_idx = np.random.choice(range(len(X)))\n",
        "    if classifier_uncertainty(learner, X[stream_idx].reshape(1, -1)) >= 0.4:\n",
        "        learner.teach(X[stream_idx].reshape(1, -1), y[stream_idx].reshape(-1, ))\n",
        "        new_score = learner.score(X, y)\n",
        "        performance_history.append(new_score)\n",
        "        print('INSTANCE no. %d queried, new accuracy: %f' % (stream_idx, new_score))\n"
      ],
      "execution_count": 15,
      "outputs": [
        {
          "output_type": "stream",
          "text": [
            "INSTANCE no. 7128 queried, new accuracy: 0.505662\n",
            "INSTANCE no. 3861 queried, new accuracy: 0.614599\n",
            "INSTANCE no. 5251 queried, new accuracy: 0.594042\n",
            "INSTANCE no. 3184 queried, new accuracy: 0.686484\n",
            "INSTANCE no. 2032 queried, new accuracy: 0.711226\n",
            "INSTANCE no. 3640 queried, new accuracy: 0.728459\n",
            "INSTANCE no. 4029 queried, new accuracy: 0.722181\n",
            "INSTANCE no. 982 queried, new accuracy: 0.807853\n",
            "INSTANCE no. 992 queried, new accuracy: 0.876416\n",
            "INSTANCE no. 3365 queried, new accuracy: 0.849458\n",
            "INSTANCE no. 993 queried, new accuracy: 0.868291\n",
            "INSTANCE no. 6142 queried, new accuracy: 0.876046\n",
            "INSTANCE no. 120 queried, new accuracy: 0.888725\n",
            "INSTANCE no. 323 queried, new accuracy: 0.916420\n"
          ],
          "name": "stdout"
        }
      ]
    },
    {
      "cell_type": "code",
      "metadata": {
        "id": "PG7DZv0tb2sw",
        "colab_type": "code",
        "colab": {
          "base_uri": "https://localhost:8080/",
          "height": 714
        },
        "outputId": "a9bbda25-0371-4fa6-8d3b-2b997a3ef96f"
      },
      "source": [
        "# Plot our performance over time.\n",
        "import matplotlib as mpl\n",
        "fig, ax = plt.subplots(figsize=(8.5, 6), dpi=130)\n",
        "\n",
        "ax.plot(performance_history)\n",
        "ax.scatter(range(len(performance_history)), performance_history, s=13)\n",
        "\n",
        "ax.xaxis.set_major_locator(mpl.ticker.MaxNLocator(nbins=5, integer=True))\n",
        "ax.yaxis.set_major_locator(mpl.ticker.MaxNLocator(nbins=10))\n",
        "ax.yaxis.set_major_formatter(mpl.ticker.PercentFormatter(xmax=1))\n",
        "\n",
        "ax.set_ylim(bottom=0, top=1)\n",
        "ax.grid(True)\n",
        "\n",
        "ax.set_title('Incremental classification accuracy')\n",
        "ax.set_xlabel('Query iteration')\n",
        "ax.set_ylabel('Classification Accuracy')\n",
        "\n",
        "plt.show()"
      ],
      "execution_count": 16,
      "outputs": [
        {
          "output_type": "display_data",
          "data": {
            "image/png": "[encoded data removed]",
            "text/plain": [
              "<Figure size 1105x780 with 1 Axes>"
            ]
          },
          "metadata": {
            "tags": [],
            "needs_background": "light"
          }
        }
      ]
    },
    {
      "cell_type": "code",
      "metadata": {
        "id": "CXV9SVHIb2yd",
        "colab_type": "code",
        "colab": {}
      },
      "source": [
        ""
      ],
      "execution_count": 16,
      "outputs": []
    },
    {
      "cell_type": "code",
      "metadata": {
        "id": "wDCzr3UkbCNf",
        "colab_type": "code",
        "colab": {}
      },
      "source": [
        ""
      ],
      "execution_count": 16,
      "outputs": []
    }
  ]
}