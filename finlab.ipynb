{
  "nbformat": 4,
  "nbformat_minor": 0,
  "metadata": {
    "colab": {
      "name": "Untitled7.ipynb",
      "provenance": [],
      "toc_visible": true,
      "authorship_tag": "ABX9TyOYsZnQiEPRadNtvZb2R008",
      "include_colab_link": true
    },
    "kernelspec": {
      "name": "python3",
      "display_name": "Python 3"
    }
  },
  "cells": [
    {
      "cell_type": "markdown",
      "metadata": {
        "id": "view-in-github",
        "colab_type": "text"
      },
      "source": [
        "<a href=\"https://colab.research.google.com/github/maryamarief96/CE888/blob/master/finlab.ipynb\" target=\"_parent\"><img src=\"https://colab.research.google.com/assets/colab-badge.svg\" alt=\"Open In Colab\"/></a>"
      ]
    },
    {
      "cell_type": "code",
      "metadata": {
        "id": "kOcfMgwvNXjh",
        "colab_type": "code",
        "colab": {
          "base_uri": "https://localhost:8080/",
          "height": 119
        },
        "outputId": "a73d9f84-af49-4d2e-efdb-39a4dca1c44b"
      },
      "source": [
        "!git clone https://github.com/Ajithvajrala23/CE888_Lab_ML_Deployment.git"
      ],
      "execution_count": 1,
      "outputs": [
        {
          "output_type": "stream",
          "text": [
            "Cloning into 'CE888_Lab_ML_Deployment'...\n",
            "remote: Enumerating objects: 4805, done.\u001b[K\n",
            "remote: Total 4805 (delta 0), reused 0 (delta 0), pack-reused 4805\u001b[K\n",
            "Receiving objects: 100% (4805/4805), 54.00 MiB | 22.67 MiB/s, done.\n",
            "Resolving deltas: 100% (363/363), done.\n",
            "Checking out files: 100% (4452/4452), done.\n"
          ],
          "name": "stdout"
        }
      ]
    },
    {
      "cell_type": "code",
      "metadata": {
        "id": "94cHp-byNpdS",
        "colab_type": "code",
        "colab": {}
      },
      "source": [
        ""
      ],
      "execution_count": 0,
      "outputs": []
    }
  ]
}